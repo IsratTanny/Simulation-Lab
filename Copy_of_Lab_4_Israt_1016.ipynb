{
  "nbformat": 4,
  "nbformat_minor": 0,
  "metadata": {
    "colab": {
      "provenance": []
    },
    "kernelspec": {
      "name": "python3",
      "display_name": "Python 3"
    },
    "language_info": {
      "name": "python"
    }
  },
  "cells": [
    {
      "cell_type": "code",
      "execution_count": null,
      "metadata": {
        "id": "iWePmiXAxYNy"
      },
      "outputs": [],
      "source": [
        "import numpy as np\n",
        "from sympy import Matrix\n",
        "import matplotlib.pyplot as plt\n",
        "import seaborn as sns"
      ]
    },
    {
      "cell_type": "code",
      "source": [
        "import random\n",
        "import numpy as np\n",
        "import math\n",
        "\n",
        "def estimate_pi(num_points):\n",
        "    inside = 0  # Count points inside the circle\n",
        "\n",
        "    for i in range(num_points):\n",
        "        if i < num_points // 2:\n",
        "            x = random.uniform(0, 4.1)\n",
        "            y = random.uniform(0, 4.1)\n",
        "        else:\n",
        "            x = np.random.rand() * 4.1\n",
        "            y = np.random.rand() * 4.1\n",
        "\n",
        "        if x*x + y*y <= 4.1**2:\n",
        "            inside += 1  # Point is inside the circle\n",
        "\n",
        "    pi_estimate = 4 * inside / num_points\n",
        "    error = abs(math.pi - pi_estimate)\n",
        "\n",
        "    return num_points, inside, pi_estimate, error  # Return all needed values\n",
        "\n",
        "\n",
        "print(\"Range Used | Total Points | Points Inside | Estimated π | Error from π\")\n",
        "for run in range(1, 6):\n",
        "    num_points = 23400\n",
        "    total, inside, pi_estimate, error = estimate_pi(num_points)\n",
        "    print(f\"[0, 4.1]   | {total:<12} | {inside:<13} | {pi_estimate:<11.6f} | {error:.6f}\")\n"
      ],
      "metadata": {
        "colab": {
          "base_uri": "https://localhost:8080/"
        },
        "id": "RXzAV9AEzO-K",
        "outputId": "014e4dd2-3ee9-4bc4-cc09-f5b0641057ac"
      },
      "execution_count": null,
      "outputs": [
        {
          "output_type": "stream",
          "name": "stdout",
          "text": [
            "Range Used | Total Points | Points Inside | Estimated π | Error from π\n",
            "[0, 4.1]   | 23400        | 18354         | 3.137436    | 0.004157\n",
            "[0, 4.1]   | 23400        | 18389         | 3.143419    | 0.001826\n",
            "[0, 4.1]   | 23400        | 18315         | 3.130769    | 0.010823\n",
            "[0, 4.1]   | 23400        | 18372         | 3.140513    | 0.001080\n",
            "[0, 4.1]   | 23400        | 18466         | 3.156581    | 0.014989\n"
          ]
        }
      ]
    }
  ]
}